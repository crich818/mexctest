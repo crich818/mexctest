{
 "cells": [
  {
   "cell_type": "code",
   "execution_count": 1,
   "id": "7d138fc5-fc7c-46df-a09c-0b8c4d6d6a22",
   "metadata": {},
   "outputs": [],
   "source": [
    "# In the main folder we will connect the other classes"
   ]
  },
  {
   "cell_type": "code",
   "execution_count": null,
   "id": "9b806325-3eb6-46f5-96cb-8f06b867773c",
   "metadata": {},
   "outputs": [],
   "source": []
  },
  {
   "cell_type": "code",
   "execution_count": null,
   "id": "3865fd49-cf9d-49d8-b5de-504e97106d40",
   "metadata": {},
   "outputs": [],
   "source": [
    "# Replace these with your actual API credentials.\n",
    "API_KEY = 'YOUR_API_KEY'\n",
    "API_SECRET = 'YOUR_API_SECRET'\n",
    "\n",
    "# Instantiate the API client.\n",
    "mexc_client = MexcAPI(api_key=API_KEY, api_secret=API_SECRET)\n",
    "\n",
    "# Example: Send a limit buy order for BTC/USDT at a price of 96100 with a quantity of 0.001.\n",
    "result = mexc_client.send_order(symbol=\"BTC_USDT\", price=\"96100\", quantity=\"0.001\", side=\"1\", order_type=\"LIMIT\")\n",
    "\n",
    "# Print the result.\n",
    "print(result)"
   ]
  }
 ],
 "metadata": {
  "kernelspec": {
   "display_name": "Python 3 (ipykernel)",
   "language": "python",
   "name": "python3"
  },
  "language_info": {
   "codemirror_mode": {
    "name": "ipython",
    "version": 3
   },
   "file_extension": ".py",
   "mimetype": "text/x-python",
   "name": "python",
   "nbconvert_exporter": "python",
   "pygments_lexer": "ipython3",
   "version": "3.11.7"
  }
 },
 "nbformat": 4,
 "nbformat_minor": 5
}
