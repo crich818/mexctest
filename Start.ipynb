{
 "cells": [
  {
   "cell_type": "markdown",
   "id": "f756f619-e138-45df-8075-f5ce067a6523",
   "metadata": {},
   "source": [
    "# *Starting a new project for automated trading system using data from MAEVE AI Trading* (https://cfgi.io/ai-trading)\n",
    "\n",
    "Steps \n",
    "- Connect to MAEVE API (https://cfgi-io.gitbook.io/cfgi) -> Gitbook\n",
    "- Store Signgal Data\n",
    "- Build Backtest for strategy analysis\n"
   ]
  },
  {
   "cell_type": "code",
   "execution_count": 8,
   "id": "0cd4c5c0-e8ec-4edd-ae4f-4a78dff0f6da",
   "metadata": {},
   "outputs": [],
   "source": [
    "client_id = 'TG9hbzF4U3NDelRaaFNpVWxJX0g6MTpjaQ'"
   ]
  },
  {
   "cell_type": "code",
   "execution_count": 7,
   "id": "3668e94c-7141-462e-9277-b2c0355e1af5",
   "metadata": {},
   "outputs": [],
   "source": [
    "client_secret = 'keYID7Z84t2zOUii7grFrqI3GbPuu6qw-JKBccG2SS77omwBwo'"
   ]
  },
  {
   "cell_type": "markdown",
   "id": "9394e00b-eba1-45c1-bdd7-931851079c41",
   "metadata": {},
   "source": [
    "# Install requests library to get data from MAEVE API"
   ]
  },
  {
   "cell_type": "code",
   "execution_count": 9,
   "id": "8679c0c9-45df-47e1-a487-2807df72b387",
   "metadata": {},
   "outputs": [
    {
     "name": "stdout",
     "output_type": "stream",
     "text": [
      "Requirement already satisfied: requests in /opt/anaconda3/lib/python3.11/site-packages (2.31.0)\n",
      "Requirement already satisfied: charset-normalizer<4,>=2 in /opt/anaconda3/lib/python3.11/site-packages (from requests) (2.0.4)\n",
      "Requirement already satisfied: idna<4,>=2.5 in /opt/anaconda3/lib/python3.11/site-packages (from requests) (3.4)\n",
      "Requirement already satisfied: urllib3<3,>=1.21.1 in /opt/anaconda3/lib/python3.11/site-packages (from requests) (2.0.7)\n",
      "Requirement already satisfied: certifi>=2017.4.17 in /opt/anaconda3/lib/python3.11/site-packages (from requests) (2024.2.2)\n",
      "Note: you may need to restart the kernel to use updated packages.\n"
     ]
    }
   ],
   "source": [
    "pip install requests"
   ]
  },
  {
   "cell_type": "code",
   "execution_count": 12,
   "id": "6d7a5964-7db5-4778-9b07-19fd96f3bb33",
   "metadata": {},
   "outputs": [],
   "source": [
    "# Load Dependencies for data pull\n",
    "import requests"
   ]
  },
  {
   "cell_type": "code",
   "execution_count": 13,
   "id": "4d1fc6d4-ba00-4885-812f-21f925c2324c",
   "metadata": {},
   "outputs": [],
   "source": [
    "url = 'https://api.cfgi.io/v1/trades' # Need to know actual endpoint"
   ]
  },
  {
   "cell_type": "code",
   "execution_count": 14,
   "id": "295fbe8e-817a-4629-93c2-2b473e8e0de5",
   "metadata": {},
   "outputs": [],
   "source": [
    "headers = {\n",
    "    'Authorization': client_id, \n",
    "    'Content-Type': 'application/json'}"
   ]
  },
  {
   "cell_type": "code",
   "execution_count": null,
   "id": "37d70c3b-eaa6-4a3b-b81a-a31e9f367f07",
   "metadata": {},
   "outputs": [],
   "source": [
    "# Here we makae a request called response, we will store the response as (data)\n",
    "#.get is our method\n",
    "\n",
    "response = requests.get(url, headers = headers)\n"
   ]
  },
  {
   "cell_type": "code",
   "execution_count": null,
   "id": "9d2c8583-3011-4c4f-aee8-ae3a907afea2",
   "metadata": {},
   "outputs": [],
   "source": [
    "# Print our data or give an error if it fails send back an error \n",
    "if response.status_code == 200\n",
    "    data = response.json(data)\n",
    "    print(data)\n",
    "else:\n",
    "    print(\"Failed to fetch data\")"
   ]
  },
  {
   "cell_type": "code",
   "execution_count": 28,
   "id": "3169317c-33b3-43e9-b8cb-373f19851a8a",
   "metadata": {},
   "outputs": [],
   "source": [
    "import numpy as np\n",
    "\n",
    "price = np.random.uniform(low=100, high=50000, size=3)\n",
    "signal = np.random.choice([1, -1, 0], 3)"
   ]
  },
  {
   "cell_type": "code",
   "execution_count": 29,
   "id": "a8838d85-3976-4f6f-a522-b42801004b13",
   "metadata": {},
   "outputs": [
    {
     "data": {
      "text/plain": [
       "array([-1, -1, -1])"
      ]
     },
     "execution_count": 29,
     "metadata": {},
     "output_type": "execute_result"
    }
   ],
   "source": [
    "# Test that numpy puts in the correct number of array\n",
    "signal"
   ]
  },
  {
   "cell_type": "code",
   "execution_count": 31,
   "id": "71780e15-8c24-4255-8ece-30c5dcd45903",
   "metadata": {},
   "outputs": [],
   "source": [
    "# Here we enter some sample data because can't access API, we use np for a random number array of prices\n",
    "\n",
    "data = {\n",
    "    'datetime': [1,2,3],\n",
    "    'symbol': ['eth', 'btc', 'ltc'],\n",
    "    'price': price,\n",
    "    'signal': signal\n",
    "}\n",
    "    "
   ]
  },
  {
   "cell_type": "code",
   "execution_count": 33,
   "id": "d8407169-0a5a-4579-bded-d364b9d8d450",
   "metadata": {},
   "outputs": [
    {
     "name": "stdout",
     "output_type": "stream",
     "text": [
      "{'datetime': [1, 2, 3], 'symbol': ['eth', 'btc', 'ltc'], 'price': array([ 2908.86443476, 35732.16278251, 40886.84866601]), 'signal': array([-1, -1, -1])}\n"
     ]
    }
   ],
   "source": [
    "print(data)"
   ]
  },
  {
   "cell_type": "code",
   "execution_count": 34,
   "id": "273dc849-2c37-4006-91fd-1d1155b215e5",
   "metadata": {},
   "outputs": [],
   "source": [
    "# Convert Data into data frame with pandas (import pandas here)\n",
    "import pandas as pd"
   ]
  },
  {
   "cell_type": "code",
   "execution_count": 35,
   "id": "e94247c4-1a8b-44ed-8f49-a19a03e17f0b",
   "metadata": {},
   "outputs": [],
   "source": [
    "# Convert Data into Dataframe we call dataframes df usually\n",
    "df = pd.DataFrame(data)"
   ]
  },
  {
   "cell_type": "code",
   "execution_count": 39,
   "id": "c54b8da2-88b9-4752-a731-4245725f799e",
   "metadata": {},
   "outputs": [],
   "source": [
    "# we can now save our dataframe into a Json file to use it in another file\n",
    "df.to_json('data.json', orient='records', lines=True)"
   ]
  },
  {
   "cell_type": "code",
   "execution_count": 40,
   "id": "193eefb3-2006-411b-adf0-5e1bc07a03cc",
   "metadata": {},
   "outputs": [
    {
     "data": {
      "text/html": [
       "<div>\n",
       "<style scoped>\n",
       "    .dataframe tbody tr th:only-of-type {\n",
       "        vertical-align: middle;\n",
       "    }\n",
       "\n",
       "    .dataframe tbody tr th {\n",
       "        vertical-align: top;\n",
       "    }\n",
       "\n",
       "    .dataframe thead th {\n",
       "        text-align: right;\n",
       "    }\n",
       "</style>\n",
       "<table border=\"1\" class=\"dataframe\">\n",
       "  <thead>\n",
       "    <tr style=\"text-align: right;\">\n",
       "      <th></th>\n",
       "      <th>datetime</th>\n",
       "      <th>symbol</th>\n",
       "      <th>price</th>\n",
       "      <th>signal</th>\n",
       "    </tr>\n",
       "  </thead>\n",
       "  <tbody>\n",
       "    <tr>\n",
       "      <th>0</th>\n",
       "      <td>1</td>\n",
       "      <td>eth</td>\n",
       "      <td>2908.864435</td>\n",
       "      <td>-1</td>\n",
       "    </tr>\n",
       "    <tr>\n",
       "      <th>1</th>\n",
       "      <td>2</td>\n",
       "      <td>btc</td>\n",
       "      <td>35732.162783</td>\n",
       "      <td>-1</td>\n",
       "    </tr>\n",
       "    <tr>\n",
       "      <th>2</th>\n",
       "      <td>3</td>\n",
       "      <td>ltc</td>\n",
       "      <td>40886.848666</td>\n",
       "      <td>-1</td>\n",
       "    </tr>\n",
       "  </tbody>\n",
       "</table>\n",
       "</div>"
      ],
      "text/plain": [
       "   datetime symbol         price  signal\n",
       "0         1    eth   2908.864435      -1\n",
       "1         2    btc  35732.162783      -1\n",
       "2         3    ltc  40886.848666      -1"
      ]
     },
     "execution_count": 40,
     "metadata": {},
     "output_type": "execute_result"
    }
   ],
   "source": [
    "df"
   ]
  },
  {
   "cell_type": "code",
   "execution_count": 41,
   "id": "f9392efb-bd12-4eb0-ad72-bfa32551ce0e",
   "metadata": {},
   "outputs": [],
   "source": [
    "df.set_index('datetime', inplace =True)"
   ]
  },
  {
   "cell_type": "code",
   "execution_count": 42,
   "id": "3f78b4cb-5851-44b4-99d5-c22472b1ba41",
   "metadata": {},
   "outputs": [
    {
     "data": {
      "text/html": [
       "<div>\n",
       "<style scoped>\n",
       "    .dataframe tbody tr th:only-of-type {\n",
       "        vertical-align: middle;\n",
       "    }\n",
       "\n",
       "    .dataframe tbody tr th {\n",
       "        vertical-align: top;\n",
       "    }\n",
       "\n",
       "    .dataframe thead th {\n",
       "        text-align: right;\n",
       "    }\n",
       "</style>\n",
       "<table border=\"1\" class=\"dataframe\">\n",
       "  <thead>\n",
       "    <tr style=\"text-align: right;\">\n",
       "      <th></th>\n",
       "      <th>symbol</th>\n",
       "      <th>price</th>\n",
       "      <th>signal</th>\n",
       "    </tr>\n",
       "    <tr>\n",
       "      <th>datetime</th>\n",
       "      <th></th>\n",
       "      <th></th>\n",
       "      <th></th>\n",
       "    </tr>\n",
       "  </thead>\n",
       "  <tbody>\n",
       "    <tr>\n",
       "      <th>1</th>\n",
       "      <td>eth</td>\n",
       "      <td>2908.864435</td>\n",
       "      <td>-1</td>\n",
       "    </tr>\n",
       "    <tr>\n",
       "      <th>2</th>\n",
       "      <td>btc</td>\n",
       "      <td>35732.162783</td>\n",
       "      <td>-1</td>\n",
       "    </tr>\n",
       "    <tr>\n",
       "      <th>3</th>\n",
       "      <td>ltc</td>\n",
       "      <td>40886.848666</td>\n",
       "      <td>-1</td>\n",
       "    </tr>\n",
       "  </tbody>\n",
       "</table>\n",
       "</div>"
      ],
      "text/plain": [
       "         symbol         price  signal\n",
       "datetime                             \n",
       "1           eth   2908.864435      -1\n",
       "2           btc  35732.162783      -1\n",
       "3           ltc  40886.848666      -1"
      ]
     },
     "execution_count": 42,
     "metadata": {},
     "output_type": "execute_result"
    }
   ],
   "source": [
    "df"
   ]
  },
  {
   "cell_type": "code",
   "execution_count": 43,
   "id": "371f6492-a6fc-499f-9579-04210ec61a56",
   "metadata": {},
   "outputs": [],
   "source": [
    "df.to_json('data.json')"
   ]
  },
  {
   "cell_type": "markdown",
   "id": "0eff56a3-73d0-43aa-875d-1e8c5a271602",
   "metadata": {},
   "source": [
    "# *we finished working with the Maeve Data and can now import this data in a different File"
   ]
  },
  {
   "cell_type": "code",
   "execution_count": null,
   "id": "ee8b608f-1aaa-4076-a91d-82b24fbdf712",
   "metadata": {},
   "outputs": [],
   "source": []
  }
 ],
 "metadata": {
  "kernelspec": {
   "display_name": "Python 3 (ipykernel)",
   "language": "python",
   "name": "python3"
  },
  "language_info": {
   "codemirror_mode": {
    "name": "ipython",
    "version": 3
   },
   "file_extension": ".py",
   "mimetype": "text/x-python",
   "name": "python",
   "nbconvert_exporter": "python",
   "pygments_lexer": "ipython3",
   "version": "3.11.7"
  }
 },
 "nbformat": 4,
 "nbformat_minor": 5
}
